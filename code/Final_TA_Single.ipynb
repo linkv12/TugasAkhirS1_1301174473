{
 "cells": [
  {
   "cell_type": "markdown",
   "id": "261ceb96",
   "metadata": {
    "tags": []
   },
   "source": [
    "# FINAL TA: Single Label\n",
    "Name : linkv12 <br>\n",
    "Date : 25 November 2022<br>\n",
    "Finalize the experiment for single label <br>"
   ]
  },
  {
   "cell_type": "markdown",
   "id": "09143fd4",
   "metadata": {
    "tags": []
   },
   "source": [
    "# Setup"
   ]
  },
  {
   "cell_type": "code",
   "execution_count": null,
   "id": "524ac686",
   "metadata": {},
   "outputs": [],
   "source": [
    "%%time\n",
    "import tensorflow as tf\n",
    "from tensorflow.keras import layers, models, losses, Model, optimizers"
   ]
  },
  {
   "cell_type": "code",
   "execution_count": 2,
   "id": "e6fb4866",
   "metadata": {},
   "outputs": [],
   "source": [
    "# import os for stuff\n",
    "import os\n",
    "import re\n",
    "import copy\n",
    "import string\n",
    "import numpy as np\n",
    "import pandas as pd\n",
    "import pickle\n",
    "from pprint import pprint\n",
    "import matplotlib.pyplot as plt\n",
    "\n",
    "from datetime import datetime\n",
    "\n",
    "from sklearn.preprocessing import LabelEncoder\n",
    "from sklearn.metrics import confusion_matrix\n",
    "from sklearn.feature_extraction.text import TfidfVectorizer\n",
    "from sklearn.model_selection  import KFold\n",
    "from sklearn import svm\n",
    "from sklearn.model_selection import GridSearchCV\n",
    "from sklearn.naive_bayes import MultinomialNB\n",
    "\n",
    "# to supress invalid warning \n",
    "old_err_state = np.seterr(invalid ='ignore')"
   ]
  },
  {
   "cell_type": "code",
   "execution_count": null,
   "id": "13b03e9c",
   "metadata": {},
   "outputs": [],
   "source": [
    "# nltk\n",
    "import nltk\n",
    "nltk.download(['stopwords','punkt'])\n",
    "from nltk.corpus import stopwords\n",
    "from nltk.tokenize import word_tokenize\n",
    "\n",
    "porterStemmer = nltk.stem.PorterStemmer()"
   ]
  },
  {
   "cell_type": "markdown",
   "id": "a80ab40c",
   "metadata": {
    "tags": []
   },
   "source": [
    "## Constant"
   ]
  },
  {
   "cell_type": "code",
   "execution_count": 5,
   "id": "c6e6d4df",
   "metadata": {},
   "outputs": [],
   "source": [
    "BATCHSIZE = 8\n",
    "EPOCH = 100\n",
    "EMBEDDING_DIM = 500\n",
    "\n",
    "SAVE_AE = False\n",
    "\n",
    "sep = '\\\\' if os.name == 'nt' else '/'\n",
    "cwd = os.getcwd()\n",
    "\n",
    "FOLDERNAME = r'{}{}data'.format(cwd, sep, sep)\n",
    "TRAINNAME = r'{}{}20ng-train-all-terms.txt'.format(FOLDERNAME, sep)\n",
    "TESTNAME = r'{}{}20ng-test-all-terms.txt'.format(FOLDERNAME, sep)\n",
    "\n",
    "RESULTS = r\"{}{}results{}\".format(cwd, sep, sep)"
   ]
  },
  {
   "cell_type": "code",
   "execution_count": null,
   "id": "3c77805d",
   "metadata": {},
   "outputs": [],
   "source": [
    "print(cwd)\n",
    "print(FOLDERNAME)\n",
    "print(TRAINNAME)\n",
    "print(TESTNAME)\n",
    "print(RESULTS)"
   ]
  },
  {
   "cell_type": "markdown",
   "id": "6ff147d4",
   "metadata": {
    "tags": []
   },
   "source": [
    "## Dataset Wrangling"
   ]
  },
  {
   "cell_type": "code",
   "execution_count": 7,
   "id": "93312cb0",
   "metadata": {},
   "outputs": [],
   "source": [
    "# make a single df \n",
    "train = pd.read_csv(TRAINNAME, sep='\\t', header=None, names=['label', 'text'])\n",
    "test = pd.read_csv(TESTNAME, sep='\\t', header=None, names=['label', 'text'])\n",
    "\n",
    "# concat\n",
    "df = pd.concat([train, test], ignore_index=True)\n",
    "\n",
    "# shuffle the DataFrame rows\n",
    "shuff = df.sample(frac = 1, random_state=4473, ignore_index=True)\n",
    "\n",
    "\n",
    "# label encoding\n",
    "# creating instance of labelencoder\n",
    "labelencoder = LabelEncoder()\n",
    "# Assigning numerical values and storing in another column\n",
    "shuff['label_cat'] = labelencoder.fit_transform(shuff['label'])\n",
    "\n"
   ]
  },
  {
   "cell_type": "code",
   "execution_count": 8,
   "id": "c8755d23",
   "metadata": {},
   "outputs": [
    {
     "name": "stdout",
     "output_type": "stream",
     "text": [
      "{0: 'alt.atheism', 1: 'comp.graphics', 2: 'comp.os.ms-windows.misc', 3: 'comp.sys.ibm.pc.hardware', 4: 'comp.sys.mac.hardware', 5: 'comp.windows.x', 6: 'misc.forsale', 7: 'rec.autos', 8: 'rec.motorcycles', 9: 'rec.sport.baseball', 10: 'rec.sport.hockey', 11: 'sci.crypt', 12: 'sci.electronics', 13: 'sci.med', 14: 'sci.space', 15: 'soc.religion.christian', 16: 'talk.politics.guns', 17: 'talk.politics.mideast', 18: 'talk.politics.misc', 19: 'talk.religion.misc'}\n"
     ]
    }
   ],
   "source": [
    "# for sanity\n",
    "class_name_list = list(labelencoder.classes_)\n",
    "class_dict = {}\n",
    "\n",
    "for class_name in class_name_list :\n",
    "    lbl_num = labelencoder.transform([class_name])[0]\n",
    "    class_dict[lbl_num] = class_name\n",
    "    \n",
    "print(class_dict)"
   ]
  },
  {
   "cell_type": "code",
   "execution_count": 9,
   "id": "bca30daa",
   "metadata": {},
   "outputs": [
    {
     "data": {
      "text/html": [
       "<div>\n",
       "<style scoped>\n",
       "    .dataframe tbody tr th:only-of-type {\n",
       "        vertical-align: middle;\n",
       "    }\n",
       "\n",
       "    .dataframe tbody tr th {\n",
       "        vertical-align: top;\n",
       "    }\n",
       "\n",
       "    .dataframe thead th {\n",
       "        text-align: right;\n",
       "    }\n",
       "</style>\n",
       "<table border=\"1\" class=\"dataframe\">\n",
       "  <thead>\n",
       "    <tr style=\"text-align: right;\">\n",
       "      <th></th>\n",
       "      <th>label</th>\n",
       "      <th>text</th>\n",
       "      <th>label_cat</th>\n",
       "    </tr>\n",
       "  </thead>\n",
       "  <tbody>\n",
       "    <tr>\n",
       "      <th>0</th>\n",
       "      <td>misc.forsale</td>\n",
       "      <td>south jersey condo i have recently graduated a...</td>\n",
       "      <td>6</td>\n",
       "    </tr>\n",
       "    <tr>\n",
       "      <th>1</th>\n",
       "      <td>rec.sport.hockey</td>\n",
       "      <td>finland sweden vs nhl teams was helsinki stock...</td>\n",
       "      <td>10</td>\n",
       "    </tr>\n",
       "    <tr>\n",
       "      <th>2</th>\n",
       "      <td>talk.politics.guns</td>\n",
       "      <td>re atf burns dividian ranch update nut case pa...</td>\n",
       "      <td>16</td>\n",
       "    </tr>\n",
       "    <tr>\n",
       "      <th>3</th>\n",
       "      <td>rec.sport.hockey</td>\n",
       "      <td>nhl summary parse results for games played thu...</td>\n",
       "      <td>10</td>\n",
       "    </tr>\n",
       "    <tr>\n",
       "      <th>4</th>\n",
       "      <td>comp.graphics</td>\n",
       "      <td>help d studio ipas hi can anyone please give m...</td>\n",
       "      <td>1</td>\n",
       "    </tr>\n",
       "    <tr>\n",
       "      <th>...</th>\n",
       "      <td>...</td>\n",
       "      <td>...</td>\n",
       "      <td>...</td>\n",
       "    </tr>\n",
       "    <tr>\n",
       "      <th>18816</th>\n",
       "      <td>talk.religion.misc</td>\n",
       "      <td>re new religion forming sign up jim kasprzak k...</td>\n",
       "      <td>19</td>\n",
       "    </tr>\n",
       "    <tr>\n",
       "      <th>18817</th>\n",
       "      <td>rec.sport.baseball</td>\n",
       "      <td>yankee meditations do you realize that the yan...</td>\n",
       "      <td>9</td>\n",
       "    </tr>\n",
       "    <tr>\n",
       "      <th>18818</th>\n",
       "      <td>comp.sys.mac.hardware</td>\n",
       "      <td>re rumours about new duos bredell tdb uu se ma...</td>\n",
       "      <td>4</td>\n",
       "    </tr>\n",
       "    <tr>\n",
       "      <th>18819</th>\n",
       "      <td>comp.sys.ibm.pc.hardware</td>\n",
       "      <td>conner cp g info please i have a conner disk m...</td>\n",
       "      <td>3</td>\n",
       "    </tr>\n",
       "    <tr>\n",
       "      <th>18820</th>\n",
       "      <td>comp.windows.x</td>\n",
       "      <td>x r and gateway hi i just got myself a gateway...</td>\n",
       "      <td>5</td>\n",
       "    </tr>\n",
       "  </tbody>\n",
       "</table>\n",
       "<p>18821 rows × 3 columns</p>\n",
       "</div>"
      ],
      "text/plain": [
       "                          label  \\\n",
       "0                  misc.forsale   \n",
       "1              rec.sport.hockey   \n",
       "2            talk.politics.guns   \n",
       "3              rec.sport.hockey   \n",
       "4                 comp.graphics   \n",
       "...                         ...   \n",
       "18816        talk.religion.misc   \n",
       "18817        rec.sport.baseball   \n",
       "18818     comp.sys.mac.hardware   \n",
       "18819  comp.sys.ibm.pc.hardware   \n",
       "18820            comp.windows.x   \n",
       "\n",
       "                                                    text  label_cat  \n",
       "0      south jersey condo i have recently graduated a...          6  \n",
       "1      finland sweden vs nhl teams was helsinki stock...         10  \n",
       "2      re atf burns dividian ranch update nut case pa...         16  \n",
       "3      nhl summary parse results for games played thu...         10  \n",
       "4      help d studio ipas hi can anyone please give m...          1  \n",
       "...                                                  ...        ...  \n",
       "18816  re new religion forming sign up jim kasprzak k...         19  \n",
       "18817  yankee meditations do you realize that the yan...          9  \n",
       "18818  re rumours about new duos bredell tdb uu se ma...          4  \n",
       "18819  conner cp g info please i have a conner disk m...          3  \n",
       "18820  x r and gateway hi i just got myself a gateway...          5  \n",
       "\n",
       "[18821 rows x 3 columns]"
      ]
     },
     "execution_count": 9,
     "metadata": {},
     "output_type": "execute_result"
    }
   ],
   "source": [
    "shuff"
   ]
  },
  {
   "cell_type": "markdown",
   "id": "3ad24be1-11ca-46be-b204-4d486d58800a",
   "metadata": {
    "tags": []
   },
   "source": [
    "# Preprocessing"
   ]
  },
  {
   "cell_type": "code",
   "execution_count": 10,
   "id": "fb544d62",
   "metadata": {},
   "outputs": [
    {
     "name": "stdout",
     "output_type": "stream",
     "text": [
      "CPU times: total: 0 ns\n",
      "Wall time: 0 ns\n"
     ]
    }
   ],
   "source": [
    "%%time\n",
    "def custom_standardization(input_data, verbose= False):\n",
    "    # print original string\n",
    "    if verbose :\n",
    "        print(\"original string: \" ,input_data)\n",
    "    \n",
    "    # lowering\n",
    "    lowercase = input_data.lower()\n",
    "    \n",
    "    # print lowercase string\n",
    "    if verbose :\n",
    "        print('lower string: ', lowercase)\n",
    "    \n",
    "    \n",
    "    # clean the text\n",
    "    stripped = re.sub(\" #39;\", \"\\'\", lowercase)\n",
    "    stripped = re.sub(\" quot;\", \"\\\"\", stripped)\n",
    "    # remove stopword\n",
    "    # regex magic : r'\\b(' + r'|'.join(stopwords.words('english')) + r')\\b\\s*'\n",
    "    stripped = re.sub(r'\\b(' + r'|'.join(stopwords.words('english')) + r')\\b\\s*',\"\", stripped)\n",
    "    \n",
    "    # print remove stopword string\n",
    "    if verbose :\n",
    "        print('Stopword removal: ', stripped)\n",
    "    \n",
    "    # strip punctuiation\n",
    "    stripped = re.sub(f\"[{re.escape(string.punctuation)}]\", \" \", stripped)\n",
    "    # remove double space\n",
    "    # two or more whitespace\n",
    "    stripped = re.sub(r\"(\\s\\s*)\", \" \", stripped)\n",
    "    stripped = re.sub(r\"(\\s+$)\", \"\", stripped)\n",
    "    \n",
    "    # tokenize\n",
    "    tokens = word_tokenize(stripped)\n",
    "\n",
    "    # print tokenize\n",
    "    if verbose :\n",
    "        print(\"toknize: \", tokens)\n",
    "    \n",
    "    # stemming\n",
    "    temp_cont = [porterStemmer.stem(word) for word in tokens]\n",
    "    \n",
    "    # print stemmed\n",
    "    if verbose:\n",
    "        print(\"stemmed: \", temp_cont)\n",
    "    \n",
    "    porter_    = ' '.join(temp_cont)\n",
    "    return porter_"
   ]
  },
  {
   "cell_type": "code",
   "execution_count": 12,
   "id": "f16cd9ad",
   "metadata": {},
   "outputs": [
    {
     "name": "stdout",
     "output_type": "stream",
     "text": [
      "cell:map_cleaning-text \n",
      "Execution Time : 107.50 s\n",
      "CPU times: total: 1min 45s\n",
      "Wall time: 1min 47s\n"
     ]
    }
   ],
   "source": [
    "%%time\n",
    "c11_start = datetime.now()\n",
    "# clean text data\n",
    "clean_text = list(map(custom_standardization, shuff['text'].tolist()))\n",
    "shuff['clean_text'] = clean_text\n",
    "\n",
    "c11_duration = datetime.now() - c11_start\n",
    "print(\"cell:map_cleaning-text \\nExecution Time : {0:.2f} s\".format(c11_duration.total_seconds()))"
   ]
  },
  {
   "cell_type": "code",
   "execution_count": 13,
   "id": "cbbb9fdc",
   "metadata": {},
   "outputs": [
    {
     "data": {
      "text/html": [
       "<div>\n",
       "<style scoped>\n",
       "    .dataframe tbody tr th:only-of-type {\n",
       "        vertical-align: middle;\n",
       "    }\n",
       "\n",
       "    .dataframe tbody tr th {\n",
       "        vertical-align: top;\n",
       "    }\n",
       "\n",
       "    .dataframe thead th {\n",
       "        text-align: right;\n",
       "    }\n",
       "</style>\n",
       "<table border=\"1\" class=\"dataframe\">\n",
       "  <thead>\n",
       "    <tr style=\"text-align: right;\">\n",
       "      <th></th>\n",
       "      <th>label</th>\n",
       "      <th>text</th>\n",
       "      <th>label_cat</th>\n",
       "      <th>clean_text</th>\n",
       "    </tr>\n",
       "  </thead>\n",
       "  <tbody>\n",
       "    <tr>\n",
       "      <th>0</th>\n",
       "      <td>misc.forsale</td>\n",
       "      <td>south jersey condo i have recently graduated a...</td>\n",
       "      <td>6</td>\n",
       "      <td>south jersey condo recent graduat look move bi...</td>\n",
       "    </tr>\n",
       "    <tr>\n",
       "      <th>1</th>\n",
       "      <td>rec.sport.hockey</td>\n",
       "      <td>finland sweden vs nhl teams was helsinki stock...</td>\n",
       "      <td>10</td>\n",
       "      <td>finland sweden vs nhl team helsinki stockholm ...</td>\n",
       "    </tr>\n",
       "    <tr>\n",
       "      <th>2</th>\n",
       "      <td>talk.politics.guns</td>\n",
       "      <td>re atf burns dividian ranch update nut case pa...</td>\n",
       "      <td>16</td>\n",
       "      <td>atf burn dividian ranch updat nut case panic r...</td>\n",
       "    </tr>\n",
       "    <tr>\n",
       "      <th>3</th>\n",
       "      <td>rec.sport.hockey</td>\n",
       "      <td>nhl summary parse results for games played thu...</td>\n",
       "      <td>10</td>\n",
       "      <td>nhl summari pars result game play thur april p...</td>\n",
       "    </tr>\n",
       "    <tr>\n",
       "      <th>4</th>\n",
       "      <td>comp.graphics</td>\n",
       "      <td>help d studio ipas hi can anyone please give m...</td>\n",
       "      <td>1</td>\n",
       "      <td>help studio ipa hi anyon pleas give ftp site g...</td>\n",
       "    </tr>\n",
       "    <tr>\n",
       "      <th>...</th>\n",
       "      <td>...</td>\n",
       "      <td>...</td>\n",
       "      <td>...</td>\n",
       "      <td>...</td>\n",
       "    </tr>\n",
       "    <tr>\n",
       "      <th>18816</th>\n",
       "      <td>talk.religion.misc</td>\n",
       "      <td>re new religion forming sign up jim kasprzak k...</td>\n",
       "      <td>19</td>\n",
       "      <td>new religion form sign jim kasprzak kasprj isa...</td>\n",
       "    </tr>\n",
       "    <tr>\n",
       "      <th>18817</th>\n",
       "      <td>rec.sport.baseball</td>\n",
       "      <td>yankee meditations do you realize that the yan...</td>\n",
       "      <td>9</td>\n",
       "      <td>yanke medit realiz yanke pay matt noke dollar ...</td>\n",
       "    </tr>\n",
       "    <tr>\n",
       "      <th>18818</th>\n",
       "      <td>comp.sys.mac.hardware</td>\n",
       "      <td>re rumours about new duos bredell tdb uu se ma...</td>\n",
       "      <td>4</td>\n",
       "      <td>rumour new duo bredel tdb uu se mat bredel wri...</td>\n",
       "    </tr>\n",
       "    <tr>\n",
       "      <th>18819</th>\n",
       "      <td>comp.sys.ibm.pc.hardware</td>\n",
       "      <td>conner cp g info please i have a conner disk m...</td>\n",
       "      <td>3</td>\n",
       "      <td>conner cp g info pleas conner disk model cp g ...</td>\n",
       "    </tr>\n",
       "    <tr>\n",
       "      <th>18820</th>\n",
       "      <td>comp.windows.x</td>\n",
       "      <td>x r and gateway hi i just got myself a gateway...</td>\n",
       "      <td>5</td>\n",
       "      <td>x r gateway hi got gateway dx v tri configur x...</td>\n",
       "    </tr>\n",
       "  </tbody>\n",
       "</table>\n",
       "<p>18821 rows × 4 columns</p>\n",
       "</div>"
      ],
      "text/plain": [
       "                          label  \\\n",
       "0                  misc.forsale   \n",
       "1              rec.sport.hockey   \n",
       "2            talk.politics.guns   \n",
       "3              rec.sport.hockey   \n",
       "4                 comp.graphics   \n",
       "...                         ...   \n",
       "18816        talk.religion.misc   \n",
       "18817        rec.sport.baseball   \n",
       "18818     comp.sys.mac.hardware   \n",
       "18819  comp.sys.ibm.pc.hardware   \n",
       "18820            comp.windows.x   \n",
       "\n",
       "                                                    text  label_cat  \\\n",
       "0      south jersey condo i have recently graduated a...          6   \n",
       "1      finland sweden vs nhl teams was helsinki stock...         10   \n",
       "2      re atf burns dividian ranch update nut case pa...         16   \n",
       "3      nhl summary parse results for games played thu...         10   \n",
       "4      help d studio ipas hi can anyone please give m...          1   \n",
       "...                                                  ...        ...   \n",
       "18816  re new religion forming sign up jim kasprzak k...         19   \n",
       "18817  yankee meditations do you realize that the yan...          9   \n",
       "18818  re rumours about new duos bredell tdb uu se ma...          4   \n",
       "18819  conner cp g info please i have a conner disk m...          3   \n",
       "18820  x r and gateway hi i just got myself a gateway...          5   \n",
       "\n",
       "                                              clean_text  \n",
       "0      south jersey condo recent graduat look move bi...  \n",
       "1      finland sweden vs nhl team helsinki stockholm ...  \n",
       "2      atf burn dividian ranch updat nut case panic r...  \n",
       "3      nhl summari pars result game play thur april p...  \n",
       "4      help studio ipa hi anyon pleas give ftp site g...  \n",
       "...                                                  ...  \n",
       "18816  new religion form sign jim kasprzak kasprj isa...  \n",
       "18817  yanke medit realiz yanke pay matt noke dollar ...  \n",
       "18818  rumour new duo bredel tdb uu se mat bredel wri...  \n",
       "18819  conner cp g info pleas conner disk model cp g ...  \n",
       "18820  x r gateway hi got gateway dx v tri configur x...  \n",
       "\n",
       "[18821 rows x 4 columns]"
      ]
     },
     "execution_count": 13,
     "metadata": {},
     "output_type": "execute_result"
    }
   ],
   "source": [
    "shuff"
   ]
  },
  {
   "cell_type": "markdown",
   "id": "5b17a9b0",
   "metadata": {
    "tags": []
   },
   "source": [
    "## Build TF-IDF SKlearn"
   ]
  },
  {
   "cell_type": "code",
   "execution_count": 14,
   "id": "a8ce21d9",
   "metadata": {},
   "outputs": [
    {
     "name": "stdout",
     "output_type": "stream",
     "text": [
      "Vector Size :  1770\n",
      "cell:train_tf-idf \n",
      "Execution Time : 2.35 s\n",
      "CPU times: total: 2.38 s\n",
      "Wall time: 2.35 s\n"
     ]
    }
   ],
   "source": [
    "%%time\n",
    "\n",
    "c13_start = datetime.now()\n",
    "# generate & fit\n",
    "vectorizer = TfidfVectorizer(min_df=0.01, \n",
    "                             max_df = 0.8, \n",
    "                             ngram_range=(1, 1))\n",
    "vectorizer.fit(shuff['clean_text'])\n",
    "dim_size = vectorizer.get_feature_names_out().shape[0]\n",
    "print(\"Vector Size : \", dim_size)\n",
    "c13_duration = datetime.now() - c13_start\n",
    "print(\"cell:train_tf-idf \\nExecution Time : {0:.2f} s\".format(c13_duration.total_seconds()))"
   ]
  },
  {
   "cell_type": "markdown",
   "id": "6aa1b015-9b6b-46fa-a1c8-bd566c4e8200",
   "metadata": {
    "tags": []
   },
   "source": [
    "## K-Fold"
   ]
  },
  {
   "cell_type": "code",
   "execution_count": 15,
   "id": "7219f159",
   "metadata": {},
   "outputs": [],
   "source": [
    "K5_fold = KFold(n_splits=5)\n",
    "fold = []\n",
    "\n",
    "for train_index, test_index in K5_fold.split(shuff['clean_text']):\n",
    "    val_index = test_index[int(len(test_index) / 2): ]\n",
    "    test_index = test_index[:int(len(test_index)/2)]\n",
    "#     print(\"TRAIN:\", train_index, \"VAL:\", val_index, \"TEST:\", test_index)\n",
    "    fold.append([train_index, val_index, test_index])"
   ]
  },
  {
   "cell_type": "markdown",
   "id": "8326247e-7331-44fe-b068-5b6c26d3f785",
   "metadata": {},
   "source": [
    "# ANN"
   ]
  },
  {
   "cell_type": "markdown",
   "id": "f58391b6",
   "metadata": {
    "tags": []
   },
   "source": [
    "## Build NN\n",
    "Build a NN from predetermined composition <br>\n",
    "Need `input_size` as a parameter          <br>\n"
   ]
  },
  {
   "cell_type": "code",
   "execution_count": 16,
   "id": "247df081",
   "metadata": {},
   "outputs": [
    {
     "name": "stdout",
     "output_type": "stream",
     "text": [
      "CPU times: total: 0 ns\n",
      "Wall time: 0 ns\n"
     ]
    }
   ],
   "source": [
    "%time\n",
    "\n",
    "def build_nn(input_size:int):\n",
    "    input_layer = layers.Input(shape=(input_size,))\n",
    "\n",
    "    hdn  = layers.Dense(900, activation='selu') (input_layer)\n",
    "    hdn = layers.BatchNormalization(momentum=0.99, epsilon=0.0001)(hdn)\n",
    "    hdn  = layers.Dense(600, activation='elu') (hdn)\n",
    "    hdn = layers.BatchNormalization(momentum=0.99, epsilon=0.0001)(hdn)\n",
    "    hdn  = layers.Dense(900, activation='selu') (hdn)\n",
    "    hdn  = layers.Dense(700, activation='selu') (hdn)\n",
    "\n",
    "    # using logits so this is how the output look\n",
    "    predictions = layers.Dense(20, name=\"predictions\")(hdn)\n",
    "    \n",
    "    model = tf.keras.Model(input_layer, predictions)\n",
    "    loss=tf.keras.losses.SparseCategoricalCrossentropy(from_logits=True)\n",
    "    # Compile the model with binary crossentropy loss and an adam optimizer.\n",
    "    model.compile(loss= loss,\n",
    "              optimizer=\"adam\", \n",
    "              metrics=[tf.keras.metrics.SparseCategoricalAccuracy()])\n",
    "    \n",
    "    return model"
   ]
  },
  {
   "cell_type": "markdown",
   "id": "a16bb434-1ccd-48e0-906f-e1cc48e843ae",
   "metadata": {
    "tags": []
   },
   "source": [
    "## Metrics for ANN"
   ]
  },
  {
   "cell_type": "code",
   "execution_count": 17,
   "id": "39cb1c2d",
   "metadata": {},
   "outputs": [],
   "source": [
    "# function to classification_report homebrew\n",
    "def _report_classification(confusion_matrix, class_name= class_dict, as_df=True) :\n",
    "    # class_name -> a dict with int as key and str as value\n",
    "    \n",
    "    kf_tbl = {}\n",
    "    for i in range(confusion_matrix.shape[0]) :\n",
    "        c_name = class_name[i]\n",
    "        kf_tbl[c_name] = {}\n",
    "        # TP \n",
    "        kf_tbl[c_name][\"TP\"] = confusion_matrix[i,i]\n",
    "        # FN\n",
    "        # baris koma belakang\n",
    "        kf_tbl[c_name][\"FN\"] = np.sum(confusion_matrix[i, :]) - confusion_matrix[i,i]\n",
    "        # FP\n",
    "        # klo liat kolom koma depan\n",
    "        kf_tbl[c_name][\"FP\"] = np.sum(confusion_matrix[: ,i]) - confusion_matrix[i,i]\n",
    "        # FN\n",
    "        kf_tbl[c_name][\"TN\"] = np.sum(confusion_matrix) - (kf_tbl[c_name][\"TP\"] + kf_tbl[c_name][\"FN\"] + kf_tbl[c_name][\"FP\"])\n",
    "        # Precision\n",
    "        kf_tbl[c_name][\"Precision\"] = np.nan_to_num(kf_tbl[c_name][\"TP\"]/(kf_tbl[c_name][\"TP\"] + kf_tbl[c_name][\"FP\"]))\n",
    "\n",
    "        # Recall\n",
    "        kf_tbl[c_name][\"Recall\"] = np.nan_to_num((kf_tbl[c_name][\"TP\"]/(kf_tbl[c_name][\"TP\"] + kf_tbl[c_name][\"FN\"])))\n",
    "        # f1-score per-class\n",
    "        _temp = (kf_tbl[c_name][\"Precision\"]* kf_tbl[c_name][\"Recall\"])\n",
    "        _temp = _temp/(kf_tbl[c_name][\"Precision\"] + kf_tbl[c_name][\"Recall\"])\n",
    "        _temp = np.nan_to_num(_temp)\n",
    "        kf_tbl[c_name][\"f1-score\"] = np.nan_to_num(2*_temp)\n",
    "    if as_df : \n",
    "        t_tbl = {\"labels\" : [],\n",
    "                 \"TP\"     : [],\n",
    "                 \"FN\"     : [],\n",
    "                 \"FP\"     : [],\n",
    "                 \"TN\"     : [],\n",
    "                 \"Precision\" : [],\n",
    "                 \"Recall\"    : [],\n",
    "                 \"f1-score\"  : []\n",
    "                }\n",
    "        for key in list(kf_tbl.keys()) :\n",
    "            t_tbl['labels'].append(key)\n",
    "            t_tbl['TP'].append(kf_tbl[key]['TP'])\n",
    "            t_tbl['FN'].append(kf_tbl[key]['FN'])\n",
    "            t_tbl['FP'].append(kf_tbl[key]['FP'])\n",
    "            t_tbl['TN'].append(kf_tbl[key]['TN'])\n",
    "            t_tbl['Precision'].append(kf_tbl[key]['Precision'])\n",
    "            t_tbl['Recall'].append(kf_tbl[key]['Recall'])\n",
    "            t_tbl['f1-score'].append(kf_tbl[key]['f1-score'])\n",
    "        df = pd.DataFrame.from_dict(t_tbl)\n",
    "        df = df.set_index('labels')\n",
    "        \n",
    "        return df\n",
    "    \n",
    "    return kf_tbl"
   ]
  },
  {
   "cell_type": "code",
   "execution_count": 18,
   "id": "19ee15b0",
   "metadata": {},
   "outputs": [],
   "source": [
    "# function to convert data from _report_classification to macro-f1 and micro-f1 and weighted-f1\n",
    "# support = tp + fn\n",
    "def get_f1(cls_report) :\n",
    "    cls_report_type = type(cls_report)\n",
    "    if cls_report_type is dict :\n",
    "        cls_num = len(list(cls_report.keys()))\n",
    "        cls_keys = list(cls_report.keys())\n",
    "        \n",
    "        # macro\n",
    "        # get all f1-score then just average it to cls_num\n",
    "        _f1_list = []\n",
    "        for key in cls_keys :\n",
    "            _f1_list.append(cls_report[key]['f1-score'])\n",
    "        _macro_f1 = sum(_f1_list) / cls_num\n",
    "        _f1_list = None\n",
    "        \n",
    "        # weigthed\n",
    "        # support_proportion = support / sum(support)\n",
    "        # sum(f1*support_proportion)\n",
    "        _f1_list = []\n",
    "        _sum_support = 0\n",
    "        for key in cls_keys :\n",
    "            _support = cls_report[key]['TP'] + cls_report[key]['FN']\n",
    "            _f1_list.append(cls_report[key]['f1-score'] * _support)\n",
    "            _sum_support += _support\n",
    "        _weighted_f1 = sum(_f1_list) / _sum_support\n",
    "        _f1_list = None\n",
    "                        \n",
    "        # micro\n",
    "        # all_class_TP FP  amnd FN\n",
    "        # using that just count f1 normally\n",
    "        _sum_TP = 0\n",
    "        _sum_FP = 0\n",
    "        _sum_FN = 0\n",
    "        for key in cls_keys :\n",
    "            _sum_TP += cls_report[key]['TP']\n",
    "            _sum_FP += cls_report[key]['FP']\n",
    "            _sum_FN += cls_report[key]['FN']\n",
    "        _micro_f1 = _sum_TP / (_sum_TP + (0.5*(_sum_FP + _sum_FN)))\n",
    "                        \n",
    "        rslt = {'f1' : {\n",
    "                'micro'    : _micro_f1,\n",
    "                'macro'    : _macro_f1,\n",
    "                'weighted' : _weighted_f1}\n",
    "              }\n",
    "        return rslt\n",
    "    elif cls_report_type is pd.core.frame.DataFrame :\n",
    "        cls_num = cls_report.shape[0]\n",
    "        \n",
    "        # macro\n",
    "        _macro_f1 = sum(cls_report['f1-score'].tolist()) / len(cls_report['f1-score'].tolist())\n",
    "        \n",
    "        # weighted\n",
    "        # support = tp + fn\n",
    "        _cls_TP = cls_report['TP'].tolist()\n",
    "        _cls_FN = cls_report['FN'].tolist()\n",
    "        _cls_f1 = cls_report['f1-score'].tolist()\n",
    "        \n",
    "        _support = [_cls_TP[i] + _cls_FN[i] for i in range(len(_cls_TP))]\n",
    "        _sum_support = sum(_support)\n",
    "        \n",
    "        # sum(f1[i] * (support[i] / sum(support)))\n",
    "        _weighted_f1 = sum([_cls_f1[i] * (_support[i] / _sum_support) for i in range(len(_cls_f1))])\n",
    "        \n",
    "        # micro\n",
    "        _sum_TP = sum(cls_report['TP'].tolist())\n",
    "        _sum_FP = sum(cls_report['FP'].tolist())\n",
    "        _sum_FN = sum(cls_report['FN'].tolist())\n",
    "        _micro_f1 = _sum_TP / (_sum_TP + (0.5*(_sum_FP + _sum_FN)))\n",
    "        \n",
    "        rslt = {'f1' : {\n",
    "                'micro'    : _micro_f1,\n",
    "                'macro'    : _macro_f1,\n",
    "                'weighted' : _weighted_f1}\n",
    "              }\n",
    "        return rslt\n",
    "    else :\n",
    "        err = {'f1' : {\n",
    "                'micro'    : -4473,\n",
    "                'macro'    : -4473,\n",
    "                'weighted' : -4473}\n",
    "              }\n",
    "        \n",
    "        return err"
   ]
  },
  {
   "cell_type": "code",
   "execution_count": 19,
   "id": "8abb846c-3966-49a6-bede-d5fab273742f",
   "metadata": {},
   "outputs": [],
   "source": [
    "def _average_dataframe(list_dframe: list) :\n",
    "    for i in range(len(list_dframe)) :\n",
    "        if i == 0 :\n",
    "            f_avg = list_dframe[i]\n",
    "        else :\n",
    "            f_avg = f_avg.add(list_dframe[i])\n",
    "\n",
    "    # divide by amount of fold\n",
    "    f_avg = f_avg.div(len(list_dframe))\n",
    "\n",
    "    # round down\n",
    "    f_avg['TP'] = f_avg['TP'].astype('int')\n",
    "    f_avg['FN'] = f_avg['FN'].astype('int')\n",
    "    f_avg['FP'] = f_avg['FP'].astype('int')\n",
    "    f_avg['TN'] = f_avg['TN'].astype('int')\n",
    "    \n",
    "    # return an average of all dataframe\n",
    "    return f_avg"
   ]
  },
  {
   "cell_type": "markdown",
   "id": "2019cdc1-f0d6-414c-a859-37f2bd6f4ff7",
   "metadata": {
    "tags": []
   },
   "source": [
    "# Evaluation\n",
    "\n",
    "Evaluate the f1-measure and acc"
   ]
  },
  {
   "cell_type": "markdown",
   "id": "9614d76a",
   "metadata": {
    "tags": []
   },
   "source": [
    "## Function to Evaluate Vanilla Performance"
   ]
  },
  {
   "cell_type": "code",
   "execution_count": 20,
   "id": "d9cf4a52-594d-4a07-a176-c33f98bf2c71",
   "metadata": {},
   "outputs": [],
   "source": [
    "def _eval_control(save_file=False) :\n",
    "\n",
    "    i = 1\n",
    "    t_res = []\n",
    "    t_loss = []\n",
    "    t_acc =[]\n",
    "    \n",
    "    list_dataframe = []\n",
    "    for train_index, val_index, test_index in fold :\n",
    "        f_cstart = datetime.now()\n",
    "        # clear session _del model from memory\n",
    "        tf.keras.backend.clear_session()\n",
    "    \n",
    "        X_train = vectorizer.transform(shuff['clean_text'][train_index]).toarray()\n",
    "        X_val = vectorizer.transform(shuff['clean_text'][val_index]).toarray()\n",
    "        X_test = vectorizer.transform(shuff['clean_text'][test_index]).toarray()\n",
    "        \n",
    "        \n",
    "        y_train = shuff['label_cat'][train_index]\n",
    "        y_val = shuff['label_cat'][val_index]\n",
    "        y_test = shuff['label_cat'][test_index]\n",
    "        \n",
    "        nn_name = \"single_control_{}\".format(i)\n",
    "        nn_model = build_nn(input_size=dim_size)\n",
    "        nn_model._name = nn_name\n",
    "        \n",
    "        # train - fit\n",
    "        fit_history = nn_model.fit(X_train, \n",
    "                                    y_train, \n",
    "                                    epochs=100, \n",
    "                                    batch_size=75, \n",
    "                                    validation_data = (X_val, y_val),\n",
    "                                    verbose=0)\n",
    "        # eval\n",
    "        # print(\"Evaluate on test data \", i)\n",
    "        results = nn_model.evaluate(X_test, y_test, batch_size=128, verbose=0)\n",
    "        # print(nn_model.metrics_names)\n",
    "        print(\"test loss, test acc:\", results)\n",
    "        pred = nn_model.predict(X_test, verbose=0)\n",
    "        pred = np.argmax(pred, axis=1)\n",
    "        result_df = _report_classification(confusion_matrix(y_test, pred))\n",
    "        result_f1 = get_f1(result_df)\n",
    "        print(\"fold {} f1-macro : {}\".format(i, result_f1['f1']['macro']))\n",
    "        t_res.append(result_f1['f1']['macro'])\n",
    "        t_loss.append(results[0])\n",
    "        t_acc.append(results[1])\n",
    "        \n",
    "        list_dataframe.append(result_df)\n",
    "                \n",
    "        # delete\n",
    "        X_train, X_val,X_test = None, None, None\n",
    "        y_train, y_val,y_test = None, None, None\n",
    "        \n",
    "        f_cdur = datetime.now() - f_cstart\n",
    "        print(\"func:eval_model on fold {} \\nExecution Time : {:.2f} s\".format(i , f_cdur.total_seconds()))\n",
    "        print()\n",
    "                \n",
    "        i += 1\n",
    "        \n",
    "    result_avg = _average_dataframe(list_dataframe)\n",
    "    \n",
    "    d_result = {'result' : result_avg,\n",
    "                'f1-macro' : sum(t_res) / len(t_res),\n",
    "                'loss' : sum(t_loss) / len(t_loss),\n",
    "                'acc'  : sum(t_acc) / len(t_acc)}\n",
    "    \n",
    "    print('control result')\n",
    "    print(d_result)\n",
    "    return d_result"
   ]
  },
  {
   "cell_type": "markdown",
   "id": "fd57100d-a46a-48be-a237-e7ed1ba99b05",
   "metadata": {},
   "source": [
    "### Control Experiment Result"
   ]
  },
  {
   "cell_type": "code",
   "execution_count": 21,
   "id": "3e1ebc1d-7e7b-436c-aa7f-49f403c72c51",
   "metadata": {},
   "outputs": [
    {
     "name": "stdout",
     "output_type": "stream",
     "text": [
      "test loss, test acc: [4.706718921661377, 0.7832093238830566]\n",
      "fold 1 f1-macro : 0.7812837417444415\n",
      "func:eval_model on fold 1 \n",
      "Execution Time : 190.65 s\n",
      "\n",
      "test loss, test acc: [4.474344253540039, 0.8023379445075989]\n",
      "fold 2 f1-macro : 0.7932568378629329\n",
      "func:eval_model on fold 2 \n",
      "Execution Time : 192.41 s\n",
      "\n",
      "test loss, test acc: [4.659121990203857, 0.7901169061660767]\n",
      "fold 3 f1-macro : 0.787102566283397\n",
      "func:eval_model on fold 3 \n",
      "Execution Time : 193.35 s\n",
      "\n",
      "test loss, test acc: [4.537060737609863, 0.8028692603111267]\n",
      "fold 4 f1-macro : 0.7973111734293381\n",
      "func:eval_model on fold 4 \n",
      "Execution Time : 192.41 s\n",
      "\n",
      "test loss, test acc: [4.939093112945557, 0.7789585590362549]\n",
      "fold 5 f1-macro : 0.7806415261327415\n",
      "func:eval_model on fold 5 \n",
      "Execution Time : 190.18 s\n",
      "\n",
      "control result\n",
      "{'result':                           TP  FN  FP    TN  Precision    Recall  f1-score\n",
      "labels                                                                   \n",
      "alt.atheism               59  23  14  1784   0.805655  0.714955  0.757487\n",
      "comp.graphics             61  34  22  1763   0.756770  0.639373  0.683287\n",
      "comp.os.ms-windows.misc   72  20  35  1753   0.675101  0.778939  0.720929\n",
      "comp.sys.ibm.pc.hardware  60  35  27  1759   0.686697  0.633072  0.657229\n",
      "comp.sys.mac.hardware     68  27  20  1765   0.769418  0.713479  0.738496\n",
      "comp.windows.x            74  23  22  1761   0.782917  0.758401  0.763682\n",
      "misc.forsale              78  23  23  1757   0.770937  0.771459  0.770051\n",
      "rec.autos                 83  18  26  1753   0.780279  0.817838  0.790888\n",
      "rec.motorcycles           88  13  13  1767   0.880750  0.869075  0.872416\n",
      "rec.sport.baseball        88  15  12  1765   0.878775  0.852300  0.864247\n",
      "rec.sport.hockey          85  10   6  1779   0.935593  0.887871  0.909794\n",
      "sci.crypt                 89   9  15  1768   0.858775  0.904700  0.878041\n",
      "sci.electronics           69  27  30  1755   0.704781  0.716400  0.704969\n",
      "sci.med                   83  15  21  1762   0.797190  0.849100  0.820369\n",
      "sci.space                 87  14  10  1770   0.898656  0.860001  0.878518\n",
      "soc.religion.christian    87  16  30  1748   0.749751  0.845216  0.790792\n",
      "talk.politics.guns        76  14  15  1775   0.837722  0.840876  0.838676\n",
      "talk.politics.mideast     79   8  10  1784   0.887146  0.909024  0.895810\n",
      "talk.politics.misc        58  18  18  1786   0.769931  0.755514  0.761599\n",
      "talk.religion.misc        39  23  16  1802   0.711490  0.622716  0.661103, 'f1-macro': 0.7879191690905702, 'loss': 4.663267803192139, 'acc': 0.7914983987808227}\n"
     ]
    }
   ],
   "source": [
    "control_measurement = _eval_control(save_file=True)"
   ]
  },
  {
   "cell_type": "code",
   "execution_count": 22,
   "id": "c75fef7e-1715-44b2-aacf-3b0bd0004446",
   "metadata": {},
   "outputs": [
    {
     "name": "stdout",
     "output_type": "stream",
     "text": [
      "{'result':                           TP  FN  FP    TN  Precision    Recall  f1-score\n",
      "labels                                                                   \n",
      "alt.atheism               59  23  14  1784   0.805655  0.714955  0.757487\n",
      "comp.graphics             61  34  22  1763   0.756770  0.639373  0.683287\n",
      "comp.os.ms-windows.misc   72  20  35  1753   0.675101  0.778939  0.720929\n",
      "comp.sys.ibm.pc.hardware  60  35  27  1759   0.686697  0.633072  0.657229\n",
      "comp.sys.mac.hardware     68  27  20  1765   0.769418  0.713479  0.738496\n",
      "comp.windows.x            74  23  22  1761   0.782917  0.758401  0.763682\n",
      "misc.forsale              78  23  23  1757   0.770937  0.771459  0.770051\n",
      "rec.autos                 83  18  26  1753   0.780279  0.817838  0.790888\n",
      "rec.motorcycles           88  13  13  1767   0.880750  0.869075  0.872416\n",
      "rec.sport.baseball        88  15  12  1765   0.878775  0.852300  0.864247\n",
      "rec.sport.hockey          85  10   6  1779   0.935593  0.887871  0.909794\n",
      "sci.crypt                 89   9  15  1768   0.858775  0.904700  0.878041\n",
      "sci.electronics           69  27  30  1755   0.704781  0.716400  0.704969\n",
      "sci.med                   83  15  21  1762   0.797190  0.849100  0.820369\n",
      "sci.space                 87  14  10  1770   0.898656  0.860001  0.878518\n",
      "soc.religion.christian    87  16  30  1748   0.749751  0.845216  0.790792\n",
      "talk.politics.guns        76  14  15  1775   0.837722  0.840876  0.838676\n",
      "talk.politics.mideast     79   8  10  1784   0.887146  0.909024  0.895810\n",
      "talk.politics.misc        58  18  18  1786   0.769931  0.755514  0.761599\n",
      "talk.religion.misc        39  23  16  1802   0.711490  0.622716  0.661103, 'f1-macro': 0.7879191690905702, 'loss': 4.663267803192139, 'acc': 0.7914983987808227}\n",
      "AVERAGE PRECISION :  0.7969166584923163\n",
      "AVERAGE RECALL :  0.7870155110336368\n"
     ]
    }
   ],
   "source": [
    "print(control_measurement)\n",
    "print(\"AVERAGE PRECISION : \", control_measurement['result']['Precision'].mean())\n",
    "print(\"AVERAGE RECALL : \", control_measurement['result']['Recall'].mean())"
   ]
  },
  {
   "cell_type": "markdown",
   "id": "52910aa7-089d-4f46-8b27-02fd8424a645",
   "metadata": {
    "tags": []
   },
   "source": [
    "## Function to Compare with other alg"
   ]
  },
  {
   "cell_type": "code",
   "execution_count": 24,
   "id": "d6fdc977-979a-4d9b-a162-f4f72503ba2c",
   "metadata": {},
   "outputs": [],
   "source": [
    "# train_index, val_index, test_index = fold[0]\n",
    "\n",
    "# X_train = vectorizer.transform(shuff['clean_text'][train_index]).toarray()\n",
    "# X_val = vectorizer.transform(shuff['clean_text'][val_index]).toarray()\n",
    "# X_test = vectorizer.transform(shuff['clean_text'][test_index]).toarray()\n",
    "        \n",
    "        \n",
    "# y_train = shuff['label_cat'][train_index]\n",
    "# y_val = shuff['label_cat'][val_index]\n",
    "# y_test = shuff['label_cat'][test_index]"
   ]
  },
  {
   "cell_type": "code",
   "execution_count": 26,
   "id": "e2f5723a-dbeb-419b-8444-a2caeffbce80",
   "metadata": {},
   "outputs": [],
   "source": [
    "def _eval_svm(save_file=False) :\n",
    "    i = 1\n",
    "    t_res = []\n",
    "    list_dataframe = []\n",
    "    for train_index, val_index, test_index in fold :\n",
    "        f_svmstart = datetime.now()\n",
    "        \n",
    "        \n",
    "        X_train = vectorizer.transform(shuff['clean_text'][train_index]).toarray()\n",
    "        X_val = vectorizer.transform(shuff['clean_text'][val_index]).toarray()\n",
    "        X_test = vectorizer.transform(shuff['clean_text'][test_index]).toarray()\n",
    "\n",
    "\n",
    "        y_train = shuff['label_cat'][train_index].tolist()\n",
    "        y_val = shuff['label_cat'][val_index].tolist()\n",
    "        y_test = shuff['label_cat'][test_index].tolist()\n",
    "        \n",
    "        svc = svm.SVC(kernel='linear',decision_function_shape='ovr')\n",
    "        svc.fit(X_train, y_train)\n",
    "    \n",
    "        pred = svc.predict(X_test)\n",
    "        \n",
    "        result_df = _report_classification(confusion_matrix(y_test, pred))\n",
    "        \n",
    "        list_dataframe.append(result_df)\n",
    "        # delete\n",
    "        X_train, X_val,X_test = None, None, None\n",
    "        y_train, y_val,y_test = None, None, None\n",
    "        \n",
    "        print('finish fold-{}'.format(i))\n",
    "        i += 1\n",
    "    # average all fold\n",
    "    result_avg = _average_dataframe(list_dataframe)\n",
    "    result_f1 = get_f1(result_avg)\n",
    "\n",
    "    f_svmduration = datetime.now() - f_svmstart\n",
    "    print(\"func:evaluate_svm \\nExecution Time : {:2f} s\".format(f_svmduration.total_seconds()))\n",
    "    return {'result' : result_avg,\n",
    "            'f1'     : result_f1}\n",
    "    \n",
    "    "
   ]
  },
  {
   "cell_type": "code",
   "execution_count": 27,
   "id": "88691acf-dd43-4824-8cc1-50df955add28",
   "metadata": {},
   "outputs": [
    {
     "name": "stdout",
     "output_type": "stream",
     "text": [
      "finish fold-1\n",
      "finish fold-2\n",
      "finish fold-3\n",
      "finish fold-4\n",
      "finish fold-5\n",
      "func:evaluate_svm \n",
      "Execution Time : 141.400921 s\n",
      "{'result':                           TP  FN  FP    TN  Precision    Recall  f1-score\n",
      "labels                                                                   \n",
      "alt.atheism               64  19  17  1780   0.783406  0.776026  0.778089\n",
      "comp.graphics             71  24  33  1752   0.681318  0.748135  0.712850\n",
      "comp.os.ms-windows.misc   74  18  24  1764   0.752914  0.798481  0.773266\n",
      "comp.sys.ibm.pc.hardware  68  26  26  1760   0.726618  0.719975  0.721719\n",
      "comp.sys.mac.hardware     72  23  20  1765   0.778855  0.754693  0.765311\n",
      "comp.windows.x            76  22  17  1766   0.812517  0.770331  0.789705\n",
      "misc.forsale              84  16  20  1760   0.805960  0.835878  0.820072\n",
      "rec.autos                 90  11  17  1762   0.841711  0.884487  0.861894\n",
      "rec.motorcycles           91   9   5  1775   0.945692  0.903962  0.923115\n",
      "rec.sport.baseball        94  10  10  1767   0.898678  0.905970  0.901235\n",
      "rec.sport.hockey          88   7   6  1779   0.935725  0.921528  0.927566\n",
      "sci.crypt                 89   9   3  1780   0.961620  0.905670  0.932611\n",
      "sci.electronics           74  22  24  1761   0.754849  0.770450  0.761720\n",
      "sci.med                   88  10  18  1765   0.827256  0.898434  0.860804\n",
      "sci.space                 90  10   8  1772   0.917799  0.896971  0.907167\n",
      "soc.religion.christian    89  14  16  1762   0.842693  0.864557  0.852286\n",
      "talk.politics.guns        81  10  12  1778   0.871833  0.887827  0.879354\n",
      "talk.politics.mideast     79   7   4  1790   0.945614  0.911354  0.927787\n",
      "talk.politics.misc        60  16  12  1792   0.828895  0.786755  0.805131\n",
      "talk.religion.misc        39  23  13  1806   0.747105  0.626467  0.677162, 'f1': {'f1': {'micro': 0.8363246718457005, 'macro': 0.8289422522651211, 'weighted': 0.8328676904338191}}}\n",
      "AVERAGE PRECISION :  0.8330528758148871\n",
      "AVERAGE RECALL :  0.8283974384894318\n"
     ]
    }
   ],
   "source": [
    "svm_result = _eval_svm(save_file=False)\n",
    "print(svm_result)\n",
    "\n",
    "print(\"AVERAGE PRECISION : \", svm_result['result']['Precision'].mean())\n",
    "print(\"AVERAGE RECALL : \", svm_result['result']['Recall'].mean())"
   ]
  },
  {
   "cell_type": "code",
   "execution_count": 28,
   "id": "fdfcc448-87a4-4fe3-a567-b42b426c5f96",
   "metadata": {},
   "outputs": [],
   "source": [
    "def _eval_nb(save_file=False) :\n",
    "    i = 1\n",
    "    t_res = []\n",
    "    list_dataframe = []\n",
    "    for train_index, val_index, test_index in fold :\n",
    "        f_nbstart = datetime.now()\n",
    "        \n",
    "        \n",
    "        X_train = vectorizer.transform(shuff['clean_text'][train_index]).toarray()\n",
    "        X_val = vectorizer.transform(shuff['clean_text'][val_index]).toarray()\n",
    "        X_test = vectorizer.transform(shuff['clean_text'][test_index]).toarray()\n",
    "\n",
    "\n",
    "        y_train = shuff['label_cat'][train_index]\n",
    "        y_val = shuff['label_cat'][val_index]\n",
    "        y_test = shuff['label_cat'][test_index]\n",
    "        \n",
    "        mb_nb = MultinomialNB(alpha = 0.6)\n",
    "        mb_nb.fit(X_train, y_train)\n",
    "    \n",
    "        pred = mb_nb.predict(X_test)\n",
    "        \n",
    "        result_df = _report_classification(confusion_matrix(y_test, pred))\n",
    "        \n",
    "        list_dataframe.append(result_df)\n",
    "        # delete\n",
    "        X_train, X_val,X_test = None, None, None\n",
    "        y_train, y_val,y_test = None, None, None\n",
    "        \n",
    "        print('finish fold-{}'.format(i))\n",
    "        i += 1\n",
    "    # average all fold\n",
    "    result_avg = _average_dataframe(list_dataframe)\n",
    "    result_f1 = get_f1(result_avg)\n",
    "\n",
    "    f_nbduration = datetime.now() - f_nbstart\n",
    "    print(\"func:evaluate_naivebayes \\nExecution Time : {:2f} s\".format(f_nbduration.total_seconds()))\n",
    "    return {'result' : result_avg,\n",
    "            'f1'     : result_f1}\n",
    "    \n",
    "    "
   ]
  },
  {
   "cell_type": "code",
   "execution_count": 29,
   "id": "9265c2ca-acb1-4288-85a8-b1650fe8af5d",
   "metadata": {},
   "outputs": [
    {
     "name": "stdout",
     "output_type": "stream",
     "text": [
      "finish fold-1\n",
      "finish fold-2\n",
      "finish fold-3\n",
      "finish fold-4\n",
      "finish fold-5\n",
      "func:evaluate_naivebayes \n",
      "Execution Time : 2.619381 s\n",
      "{'result':                           TP  FN  FP    TN  Precision    Recall  f1-score\n",
      "labels                                                                   \n",
      "alt.atheism               61  21  22  1776   0.730118  0.741209  0.734093\n",
      "comp.graphics             69  26  40  1745   0.632474  0.728996  0.676367\n",
      "comp.os.ms-windows.misc   69  23  29  1759   0.702695  0.743585  0.721466\n",
      "comp.sys.ibm.pc.hardware  65  29  33  1753   0.665525  0.688949  0.676296\n",
      "comp.sys.mac.hardware     67  28  20  1766   0.768721  0.701948  0.732761\n",
      "comp.windows.x            78  20  23  1760   0.772777  0.793926  0.782180\n",
      "misc.forsale              78  23  14  1766   0.842735  0.775580  0.806514\n",
      "rec.autos                 87  15  18  1761   0.826592  0.853957  0.839137\n",
      "rec.motorcycles           90  10  14  1766   0.867775  0.894806  0.879900\n",
      "rec.sport.baseball        91  12   9  1768   0.906496  0.878225  0.891544\n",
      "rec.sport.hockey          89   6   9  1775   0.902731  0.929698  0.914780\n",
      "sci.crypt                 87  10   8  1775   0.910314  0.888954  0.899232\n",
      "sci.electronics           69  26  22  1763   0.752785  0.724498  0.737421\n",
      "sci.med                   85  12  13  1770   0.860470  0.872963  0.865861\n",
      "sci.space                 89  12  13  1767   0.873721  0.879014  0.876126\n",
      "soc.religion.christian    93  10  36  1742   0.721043  0.903174  0.800767\n",
      "talk.politics.guns        81  10  25  1765   0.764833  0.890734  0.822340\n",
      "talk.politics.mideast     78   9   9  1784   0.890363  0.893047  0.890766\n",
      "talk.politics.misc        49  27  10  1794   0.833026  0.646370  0.726917\n",
      "talk.religion.misc        20  42   3  1816   0.855887  0.331374  0.473581, 'f1': {'f1': {'micro': 0.8013937282229965, 'macro': 0.7874024381020787, 'weighted': 0.7950751100601796}}}\n",
      "AVERAGE PRECISION :  0.8040540250259323\n",
      "AVERAGE RECALL :  0.7880503944672781\n"
     ]
    }
   ],
   "source": [
    "nb_result = _eval_nb()\n",
    "print(nb_result)\n",
    "print(\"AVERAGE PRECISION : \", nb_result['result']['Precision'].mean())\n",
    "print(\"AVERAGE RECALL : \", nb_result['result']['Recall'].mean())"
   ]
  },
  {
   "cell_type": "markdown",
   "id": "d7bc6ba9-7758-4f12-ad5f-a3be3a287c8f",
   "metadata": {},
   "source": [
    "## Analisis Dataset"
   ]
  },
  {
   "cell_type": "code",
   "execution_count": 30,
   "id": "45e7e3ab-fba8-4d90-bb86-fbe4e80c7d96",
   "metadata": {},
   "outputs": [
    {
     "name": "stdout",
     "output_type": "stream",
     "text": [
      "Jumlah baris pada dataset\n"
     ]
    },
    {
     "data": {
      "text/plain": [
       "label_cat    18821.0\n",
       "Name: count, dtype: float64"
      ]
     },
     "execution_count": 30,
     "metadata": {},
     "output_type": "execute_result"
    }
   ],
   "source": [
    "print(\"Jumlah baris pada dataset\")\n",
    "shuff.describe().loc['count']"
   ]
  },
  {
   "cell_type": "code",
   "execution_count": 31,
   "id": "7ff811a9-206b-4572-b4cf-f4f567bfcc14",
   "metadata": {},
   "outputs": [],
   "source": [
    "# Distribusi dan jumlah tiap kategori\n",
    "# shuff['label'].tolist()\n",
    "class_dict\n",
    "\n",
    "count_dict = {}\n",
    "for key, item in class_dict.items() :\n",
    "    count_dict[item] = shuff['label'].tolist().count(item)\n",
    "    \n",
    "# count_dict"
   ]
  },
  {
   "cell_type": "code",
   "execution_count": 32,
   "id": "487790e0-e609-40fd-9310-af1ea28696ba",
   "metadata": {},
   "outputs": [
    {
     "data": {
      "image/png": "[encoded data removed]",
      "text/plain": [
       "<Figure size 1000x600 with 1 Axes>"
      ]
     },
     "metadata": {},
     "output_type": "display_data"
    }
   ],
   "source": [
    "\n",
    "_i = plt.ioff()\n",
    "\n",
    "label = list(count_dict.keys())\n",
    "count = list(count_dict.values())\n",
    "\n",
    "fig, ax1 = plt.subplots(1, 1, figsize=(10,6))\n",
    " \n",
    "\n",
    "ax1.barh(label, count, align='center')\n",
    "ax1.set_yticks(label, labels=label)\n",
    "ax1.invert_yaxis()  # labels read top-to-bottom\n",
    "ax1.set_xlabel('Jumlah Data')\n",
    "ax1.set_title('Distribusi Label dalam Dataset')\n",
    "\n",
    "plt.show()\n",
    "\n",
    "# fig.savefig(\"./results/img/single_label_distribution.png\")\n",
    "# close all fig after printed\n",
    "plt.close('all')\n",
    "_i = plt.ion()"
   ]
  }
 ],
 "metadata": {
  "kernelspec": {
   "display_name": "Python 3 (ipykernel)",
   "language": "python",
   "name": "python3"
  },
  "language_info": {
   "codemirror_mode": {
    "name": "ipython",
    "version": 3
   },
   "file_extension": ".py",
   "mimetype": "text/x-python",
   "name": "python",
   "nbconvert_exporter": "python",
   "pygments_lexer": "ipython3",
   "version": "3.10.4"
  },
  "toc-autonumbering": true
 },
 "nbformat": 4,
 "nbformat_minor": 5
}
